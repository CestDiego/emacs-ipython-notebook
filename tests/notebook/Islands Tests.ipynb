{
 "cells": [
  {
   "cell_type": "code",
   "execution_count": 7,
   "metadata": {
    "collapsed": false
   },
   "outputs": [
    {
     "name": "stdout",
     "output_type": "stream",
     "text": [
      "C:\\Users\\e341194\\Documents\\Github\\Islands\n"
     ]
    }
   ],
   "source": [
    "%cd /Users/e341194/Documents/Github/Islands/\n"
   ]
  },
  {
   "cell_type": "code",
   "execution_count": 10,
   "metadata": {
    "collapsed": false
   },
   "outputs": [],
   "source": [
    "%run worldgen.py\n"
   ]
  },
  {
   "cell_type": "code",
   "execution_count": 11,
   "metadata": {
    "collapsed": false
   },
   "outputs": [
    {
     "data": {
      "text/plain": [
       "[0, 30, 31, 41, 51, 167, 177, 231, 241, 255]"
      ]
     },
     "execution_count": 11,
     "metadata": {},
     "output_type": "execute_result"
    }
   ],
   "source": []
  },
  {
   "cell_type": "code",
   "execution_count": 9,
   "metadata": {
    "collapsed": false
   },
   "outputs": [
    {
     "name": "stdout",
     "output_type": "stream",
     "text": [
      "Object `RGBColor` not found.\n"
     ]
    }
   ],
   "source": [
    "%run /Users/e341194/Documents/Github/Islands/demo_test.py\n",
    "RGBColor?"
   ]
  },
  {
   "cell_type": "code",
   "execution_count": 2,
   "metadata": {
    "collapsed": false
   },
   "outputs": [],
   "source": [
    "root = RootConsole(80, 60)"
   ]
  },
  {
   "cell_type": "code",
   "execution_count": 19,
   "metadata": {
    "collapsed": false
   },
   "outputs": [
    {
     "name": "stdout",
     "output_type": "stream",
     "text": [
      "Object `RootConsole` not found.\n"
     ]
    }
   ],
   "source": [
    "RootConsole?"
   ]
  },
  {
   "cell_type": "code",
   "execution_count": 15,
   "metadata": {
    "collapsed": false
   },
   "outputs": [
    {
     "name": "stdout",
     "output_type": "stream",
     "text": [
      "Object `DemoGame` not found.\n"
     ]
    }
   ],
   "source": [
    "DemoGame?"
   ]
  },
  {
   "cell_type": "code",
   "execution_count": 18,
   "metadata": {
    "collapsed": false
   },
   "outputs": [
    {
     "name": "stdout",
     "output_type": "stream",
     "text": [
      "Object `demo_test` not found.\n"
     ]
    }
   ],
   "source": [
    "demo_test?"
   ]
  },
  {
   "cell_type": "code",
   "execution_count": 27,
   "metadata": {
    "collapsed": false
   },
   "outputs": [],
   "source": [
    "%qtconsole"
   ]
  },
  {
   "cell_type": "code",
   "execution_count": 1,
   "metadata": {
    "collapsed": false
   },
   "outputs": [
    {
     "data": {
      "text/plain": [
       "'C:\\\\Users\\\\e341194\\\\Documents\\\\GitHub\\\\emacs-ipython-notebook\\\\tests\\\\notebook'"
      ]
     },
     "execution_count": 1,
     "metadata": {},
     "output_type": "execute_result"
    }
   ],
   "source": [
    "pwd"
   ]
  },
  {
   "cell_type": "code",
   "execution_count": 2,
   "metadata": {
    "collapsed": false
   },
   "outputs": [
    {
     "name": "stdout",
     "output_type": "stream",
     "text": [
      "C:\\Users\\e341194\\Documents\\GitHub\\Islands\n"
     ]
    }
   ],
   "source": [
    "cd C:\\Users\\e341194\\Documents\\GitHub\\Islands"
   ]
  },
  {
   "cell_type": "code",
   "execution_count": 1,
   "metadata": {
    "collapsed": false
   },
   "outputs": [
    {
     "name": "stdout",
     "output_type": "stream",
     "text": [
      " Volume in drive C has no label.\n",
      " Volume Serial Number is 9655-033B\n",
      "\n",
      " Directory of C:\\Users\\e341194\\Documents\\GitHub\\emacs-ipython-notebook\\tests\\notebook\n",
      "\n",
      "01/15/2015  09:28 AM    <DIR>          .\n",
      "01/15/2015  09:28 AM    <DIR>          ..\n",
      "01/13/2015  06:48 AM                20 .gitignore\n",
      "01/15/2015  08:11 AM    <DIR>          .ipynb_checkpoints\n",
      "01/13/2015  06:48 AM    <DIR>          nbformat3\n",
      "01/14/2015  06:52 PM    <DIR>          nbformat4\n",
      "11/12/2014  06:20 AM    <DIR>          TestDir\n",
      "01/15/2015  09:28 AM             2,443 Untitled.ipynb\n",
      "               2 File(s)          2,463 bytes\n",
      "               6 Dir(s)  15,137,656,832 bytes free\n"
     ]
    }
   ],
   "source": [
    "ls"
   ]
  },
  {
   "cell_type": "code",
   "execution_count": 3,
   "metadata": {
    "collapsed": false
   },
   "outputs": [],
   "source": [
    "%run demo_test.py"
   ]
  },
  {
   "cell_type": "code",
   "execution_count": null,
   "metadata": {
    "collapsed": false
   },
   "outputs": [],
   "source": []
  }
 ],
 "metadata": {
  "kernelspec": {
   "display_name": "Python 3",
   "language": "python",
   "name": "python3"
  },
  "language_info": {
   "codemirror_mode": {
    "name": "ipython",
    "version": 3
   },
   "file_extension": ".py",
   "mimetype": "text/x-python",
   "name": "python",
   "nbconvert_exporter": "python",
   "pygments_lexer": "ipython3",
   "version": "3.4.1"
  },
  "name": "Untitled.ipynb"
 },
 "nbformat": 4,
 "nbformat_minor": 0
}
